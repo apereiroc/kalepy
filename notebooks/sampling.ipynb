{
 "cells": [
  {
   "cell_type": "code",
   "execution_count": null,
   "id": "06814c3a",
   "metadata": {},
   "outputs": [],
   "source": [
    "# %load ./init.ipy\n",
    "%reload_ext autoreload\n",
    "%autoreload 2\n",
    "\n",
    "# %load init.ipy\n",
    "import os, sys, logging, datetime, warnings, shutil\n",
    "from importlib import reload\n",
    "\n",
    "import numpy as np\n",
    "import scipy as sp\n",
    "import scipy.stats\n",
    "import matplotlib as mpl\n",
    "import matplotlib.pyplot as plt\n",
    "from nose import tools\n",
    "\n",
    "import kalepy as kale\n",
    "import kalepy.utils\n",
    "import kalepy.plot\n",
    "import kalepy.sample\n",
    "\n",
    "# The `nbshow` command runs `plt.show()` in interactive jupyter notebooks, but closes\n",
    "#   figures when run from the command-line (notebooks are converted to scripts and run as tests)\n",
    "from kalepy.plot import nbshow\n",
    "\n",
    "import warnings\n",
    "# warnings.simplefilter(\"error\")   # WARNING: this is breaking jupyter at the moment (2021-02-14)"
   ]
  },
  {
   "cell_type": "code",
   "execution_count": null,
   "id": "823c4e30",
   "metadata": {},
   "outputs": [],
   "source": [
    "def func(x, y):\n",
    "    rv = (x + y)**2 + x**2 + y**2\n",
    "    rv = 3 * np.exp(-rv / 2.0) + 1.0\n",
    "    return rv\n",
    "\n",
    "xx = np.linspace(-4, 4, 22)\n",
    "yy = np.linspace(-4, 4, 23)\n",
    "\n",
    "data = func(xx[:, np.newaxis], yy[np.newaxis, :]) \n",
    "\n",
    "rr = xx[:, np.newaxis]**2 + yy[np.newaxis, :]**2 + 1.0\n",
    "ww = np.sqrt(rr)\n",
    "\n",
    "extreme = 10**(data - 1) - 1\n",
    "\n",
    "edges = [xx, yy]\n",
    "data_edge = extreme\n",
    "scalar_edge = ww\n",
    "\n",
    "scalar_out, data_out = kale.sample.sample_grid(np.concatenate(edges), data_edge, 1000, scalar=scalar_edge)"
   ]
  },
  {
   "cell_type": "code",
   "execution_count": null,
   "id": "7900d5b3",
   "metadata": {},
   "outputs": [],
   "source": [
    "np.random.seed(1234567)"
   ]
  },
  {
   "cell_type": "code",
   "execution_count": null,
   "id": "eec42362",
   "metadata": {},
   "outputs": [],
   "source": [
    "def draw_example(xx, yy, data):\n",
    "    fig, axes = plt.subplots(figsize=[12, 4], ncols=2)\n",
    "\n",
    "    for ii, ax in enumerate(axes):\n",
    "        interp = bool(ii)\n",
    "        vals = kale.sample.sample_grid([xx, yy], data, 2000, interpolate=interp)\n",
    "        ax.set_title(f\"{interp=}\")\n",
    "        ax.scatter(*vals, color='pink', s=10, zorder=20, alpha=0.3)\n",
    "        ax.hist2d(*vals, bins=10)\n",
    "\n",
    "    return fig, vals"
   ]
  },
  {
   "cell_type": "markdown",
   "id": "63689d23",
   "metadata": {},
   "source": [
    "# Test 1"
   ]
  },
  {
   "cell_type": "code",
   "execution_count": null,
   "id": "f0b0c9cc",
   "metadata": {},
   "outputs": [],
   "source": [
    "xx = [0.0, 1.0, 2.0]\n",
    "yy = [100.0, 200.0, 300.0]\n",
    "\n",
    "edge = [\n",
    "    [0.0, 10.0, 0.0],\n",
    "    [10.0, 20.0, 10.0],\n",
    "    [0.0, 10.0, 0.0]\n",
    "]\n",
    "\n",
    "fig, vals = draw_example(xx, yy, edge)\n",
    "\n",
    "nbshow()"
   ]
  },
  {
   "cell_type": "markdown",
   "id": "9dcb9a1e",
   "metadata": {},
   "source": [
    "## Compare 1/4ths"
   ]
  },
  {
   "cell_type": "code",
   "execution_count": null,
   "id": "37a15715",
   "metadata": {},
   "outputs": [],
   "source": [
    "# ---- Make sure quadrants are evenly sampled\n",
    "quads, *_ = np.histogram2d(*vals, bins=(xx, yy))\n",
    "\n",
    "tot = quads.sum()\n",
    "# fraction in each quadrant\n",
    "frac = quads / tot\n",
    "print(\"frac = \", frac.flatten())\n",
    "# expected poisson error\n",
    "err = 1.0 / np.sqrt(tot / 4.0)\n",
    "err *= 3.0   # padding\n",
    "extr = 0.25 * np.array([1.0 - err, 1.0 + err])\n",
    "print(\"exp = \", 1.0/4.0, \" +- \", err, \"==>\", extr)\n",
    "# Make sure each quadrant is roughly equal\n",
    "if np.any((frac < extr[0]) | (frac > extr[1])):\n",
    "    raise ValueError(\"Uneven distribution of points!\")"
   ]
  },
  {
   "cell_type": "markdown",
   "id": "8e2447d9",
   "metadata": {},
   "source": [
    "## Compare 1/16ths"
   ]
  },
  {
   "cell_type": "code",
   "execution_count": null,
   "id": "87dcd48c",
   "metadata": {},
   "outputs": [],
   "source": [
    "edges = [np.sort(np.concatenate([kale.utils.midpoints(ee), ee])) for ee in [xx, yy]]\n",
    "octs, *_ = np.histogram2d(*vals, bins=edges)\n",
    "\n",
    "tot = octs.sum()\n",
    "frac = octs / tot\n",
    "ave = tot / octs.size\n",
    "err = np.sqrt(ave)\n",
    "extr = [ave - err, ave + err]\n",
    "extr = np.array(extr) / tot\n",
    "print(f\"{ave=}, {err=}, {extr=}\")\n",
    "\n",
    "print(\"frac=\\n\", frac)\n",
    "corners = np.ix_([0, 3], [0, 3])\n",
    "corners = frac[corners].flatten()\n",
    "print(\"corners=\\n\", corners)\n",
    "\n",
    "centers = np.ix_([1, 2], [1, 2])\n",
    "centers = frac[centers].flatten()\n",
    "print(\"centers=\\n\", centers)\n",
    "\n",
    "diags_h = np.ix_([1, 2], [0, 3])\n",
    "diags_h = frac[diags_h]\n",
    "diags_v = np.ix_([0, 3], [1, 2])\n",
    "diags_v = frac[diags_v]\n",
    "diags = np.concatenate([diags_h, diags_v]).flatten()\n",
    "print(\"diags=\\n\", diags)\n",
    "\n",
    "if not np.all(diags[:, np.newaxis] < centers[np.newaxis, :]):\n",
    "    err = \"diagonal values are not all smaller than center values!\"\n",
    "    raise ValueError(err)\n",
    "    \n",
    "if not np.all(corners[:, np.newaxis] < diags[np.newaxis, :]):\n",
    "    err = \"corner values are not all smaller than diagonal values!\"\n",
    "    raise ValueError(err)\n",
    "    \n",
    "if np.any((diags > 0.07) | (diags < 0.03)):\n",
    "    raise ValueError(\"diagonals are out of bounds!\")\n",
    "    \n",
    "if np.any((centers > 0.16) | (0.11 > centers)):\n",
    "    raise ValueError(\"centers are out of bounds!\")\n",
    "    \n",
    "if np.any((corners > 0.025) | (corners < 0.008)):\n",
    "    raise ValueError(\"corners are out of bounds!\")"
   ]
  },
  {
   "cell_type": "markdown",
   "id": "e91835cb",
   "metadata": {},
   "source": [
    "# Test 2"
   ]
  },
  {
   "cell_type": "code",
   "execution_count": null,
   "id": "41df9d25",
   "metadata": {},
   "outputs": [],
   "source": [
    "xx = [0.0, 1.0, 2.0]\n",
    "yy = [100.0, 200.0, 300.0]\n",
    "\n",
    "edge = [\n",
    "    [10.0, 0.0, 10.0],\n",
    "    [ 0.0, 0.0,  0.0],\n",
    "    [10.0, 0.0, 10.0]\n",
    "]\n",
    "\n",
    "fig, vals = draw_example(xx, yy, edge)\n",
    "nbshow()"
   ]
  },
  {
   "cell_type": "markdown",
   "id": "5dec9e65",
   "metadata": {},
   "source": [
    "## Compare 1/4ths"
   ]
  },
  {
   "cell_type": "code",
   "execution_count": null,
   "id": "e1c42d67",
   "metadata": {},
   "outputs": [],
   "source": [
    "# ---- Make sure quadrants are evenly sampled\n",
    "quads, *_ = np.histogram2d(*vals, bins=(xx, yy))\n",
    "\n",
    "tot = quads.sum()\n",
    "# fraction in each quadrant\n",
    "frac = quads / tot\n",
    "print(\"frac = \", frac.flatten())\n",
    "# expected poisson error\n",
    "err = 1.0 / np.sqrt(tot / 4.0)\n",
    "err *= 2.0   # padding\n",
    "extr = 0.25 * np.array([1.0 - err, 1.0 + err])\n",
    "print(\"exp = \", 1.0/4.0, \" +- \", err, \"==>\", extr)\n",
    "# Make sure each quadrant is roughly equal\n",
    "if np.any((frac < extr[0]) | (frac > extr[1])):\n",
    "    raise ValueError(\"Uneven distribution of points!\")"
   ]
  },
  {
   "cell_type": "markdown",
   "id": "96aeb645",
   "metadata": {},
   "source": [
    "## Compare 1/16ths"
   ]
  },
  {
   "cell_type": "code",
   "execution_count": null,
   "id": "798f60d3",
   "metadata": {},
   "outputs": [],
   "source": [
    "edges = [np.sort(np.concatenate([kale.utils.midpoints(ee), ee])) for ee in [xx, yy]]\n",
    "octs, *_ = np.histogram2d(*vals, bins=edges)\n",
    "\n",
    "tot = octs.sum()\n",
    "frac = octs / tot\n",
    "ave = tot / octs.size\n",
    "err = np.sqrt(ave)\n",
    "extr = [ave - err, ave + err]\n",
    "extr = np.array(extr) / tot\n",
    "print(f\"{ave=}, {err=}, {extr=}\")\n",
    "\n",
    "print(\"frac=\\n\", frac)\n",
    "corners = np.ix_([0, 3], [0, 3])\n",
    "corners = frac[corners].flatten()\n",
    "print(\"corners=\\n\", corners)\n",
    "\n",
    "centers = np.ix_([1, 2], [1, 2])\n",
    "centers = frac[centers].flatten()\n",
    "print(\"centers=\\n\", centers)\n",
    "\n",
    "diags_h = np.ix_([1, 2], [0, 3])\n",
    "diags_h = frac[diags_h]\n",
    "diags_v = np.ix_([0, 3], [1, 2])\n",
    "diags_v = frac[diags_v]\n",
    "diags = np.concatenate([diags_h, diags_v]).flatten()\n",
    "print(\"diags=\\n\", diags)\n",
    "\n",
    "if not np.all(corners[:, np.newaxis] > diags[np.newaxis, :]):\n",
    "    err = \"corner values are not all larger than diagonal values!\"\n",
    "    raise ValueError(err)\n",
    "    \n",
    "if not np.all(diags[:, np.newaxis] > centers[np.newaxis, :]):\n",
    "    err = \"diagonal values are not all larger than center values!\"\n",
    "    raise ValueError(err)\n",
    "    \n",
    "if np.any((diags > 0.06) | (diags < 0.03)):\n",
    "    raise ValueError(\"diagonals are out of bounds!\")\n",
    "    \n",
    "test = (corners > 0.16) | (corners < 0.11)\n",
    "if np.any(test):\n",
    "    raise ValueError(\"corners are out of bounds!\")\n",
    "    \n",
    "if np.any((centers > 0.025) | (centers < 0.008)):\n",
    "    raise ValueError(\"centers are out of bounds!\")"
   ]
  },
  {
   "cell_type": "markdown",
   "id": "f8b988ed",
   "metadata": {},
   "source": [
    "# Test 3"
   ]
  },
  {
   "cell_type": "code",
   "execution_count": null,
   "id": "ce34f2fc",
   "metadata": {},
   "outputs": [],
   "source": [
    "xx = [0.0, 1.0, 2.0, 3.0]\n",
    "yy = [100.0, 200.0, 300.0]\n",
    "\n",
    "edge = [\n",
    "    [10.0, 0.0, 10.0],\n",
    "    [10.0, 0.0, 10.0],\n",
    "    [10.0, 0.0, 10.0],\n",
    "    [10.0, 0.0, 10.0],\n",
    "]\n",
    "\n",
    "fig, vals = draw_example(xx, yy, edge)\n",
    "nbshow()"
   ]
  },
  {
   "cell_type": "code",
   "execution_count": null,
   "id": "0b272ef2",
   "metadata": {},
   "outputs": [],
   "source": [
    "hist, *_ = np.histogram2d(*vals, bins=(3, 3))\n",
    "tot = hist.sum()\n",
    "frac = hist / tot\n",
    "ave = tot / hist.size\n",
    "err = np.sqrt(ave)\n",
    "print(f\"{ave=} {err=}\")\n",
    "print(\"frac=\\n\", frac)\n",
    "\n",
    "rows = np.mean(frac, axis=0)\n",
    "print(\"rows=\", rows)\n",
    "\n",
    "df = np.fabs(rows[-1] - rows[0])\n",
    "print(\"df=\", df)\n",
    "if df > 0.015:\n",
    "    raise ValueError(\"Edge rows do not match!\")\n",
    "\n",
    "if (rows[0] < 0.14) or (rows[0] > 0.16):\n",
    "    raise ValueError(\"edge rows are out of bounds!\")\n",
    "    \n",
    "if (rows[1] < 0.03) or (rows[1] > 0.05):\n",
    "    raise ValueError(\"middle row is out of bounds!\")\n",
    "\n",
    "    \n",
    "cols = np.mean(frac, axis=1)\n",
    "print(\"cols=\", cols)\n",
    "df = np.fabs(cols[:, np.newaxis] - cols[np.newaxis, :]).max()\n",
    "print(\"max diff=\", df)\n",
    "if df > 0.02:\n",
    "    raise ValueError(\"columns are inconsistent!\")\n",
    "\n",
    "if (cols[0] < 0.095) or (cols[0] > 0.125):\n",
    "    raise ValueError(\"columns are out of bounds!\")"
   ]
  },
  {
   "cell_type": "code",
   "execution_count": null,
   "id": "b0fb010f",
   "metadata": {},
   "outputs": [],
   "source": []
  },
  {
   "cell_type": "code",
   "execution_count": null,
   "id": "9afc601a",
   "metadata": {},
   "outputs": [],
   "source": []
  },
  {
   "cell_type": "code",
   "execution_count": null,
   "id": "d16b225d",
   "metadata": {},
   "outputs": [],
   "source": []
  },
  {
   "cell_type": "markdown",
   "id": "959354a2",
   "metadata": {},
   "source": [
    "# Visual : test 3D function"
   ]
  },
  {
   "cell_type": "code",
   "execution_count": null,
   "id": "ea6ccfd3",
   "metadata": {},
   "outputs": [],
   "source": [
    "def func(x, y, z):\n",
    "    rv = (x + y - 2*z)**2 + x**2 + y**2 + z**2\n",
    "    rv = 3 * np.exp(-rv / 2.0)\n",
    "    return rv\n",
    "\n",
    "xx = np.linspace(-4, 4, 200)\n",
    "yy = np.linspace(-4, 4, 300)\n",
    "zz = np.linspace(-1, 1, 5)\n",
    "\n",
    "data = func(xx[:, np.newaxis, np.newaxis], yy[np.newaxis, :, np.newaxis], zz[np.newaxis, np.newaxis, :]) \n",
    "vals = kale.sample.sample_grid([xx, yy, zz], data, 2000)\n",
    "\n",
    "# smap = zplot.smap(data, scale='linear')\n",
    "\n",
    "# for ii, _ in enumerate(zz):\n",
    "#     fig, ax = plt.subplots()\n",
    "#     aa = data[:, :, ii]\n",
    "#     plt.pcolormesh(xx, yy, aa.T, cmap=smap.cmap, norm=smap.norm)\n",
    "    \n",
    "# nbshow()\n",
    "    "
   ]
  },
  {
   "cell_type": "code",
   "execution_count": null,
   "id": "17fabe74",
   "metadata": {},
   "outputs": [],
   "source": [
    "# smap = zplot.smap(data_edge, scale='lin')\n",
    "extr = kale.utils.minmax(data)\n",
    "norm = mpl.colors.Normalize(*extr)\n",
    "\n",
    "# add an offset so that the last 'bin' is also matched\n",
    "off = np.diff(zz)[0]*0.5\n",
    "keys = np.searchsorted(zz, vals[2] + off) - 1\n",
    "for ii in range(zz.size):\n",
    "    idx = (keys == ii)\n",
    "        \n",
    "    fig, ax = plt.subplots()\n",
    "    plt.pcolormesh(xx, yy, data[:, :, ii].T, norm=norm, shading='auto')\n",
    "    uu = vals[0][idx]\n",
    "    vv = vals[1][idx]\n",
    "    plt.scatter(uu, vv, facecolor='pink', edgecolor='0.25', alpha=0.7, s=20, zorder=100)\n",
    "\n",
    "nbshow()"
   ]
  },
  {
   "cell_type": "markdown",
   "id": "6005cf83",
   "metadata": {},
   "source": [
    "# Visual : test 3D random data"
   ]
  },
  {
   "cell_type": "code",
   "execution_count": null,
   "id": "464a9dc5",
   "metadata": {},
   "outputs": [],
   "source": [
    "data = kale.utils._random_data_3d_01()\n",
    "data = data[:, ::10]"
   ]
  },
  {
   "cell_type": "code",
   "execution_count": null,
   "id": "1f19a695",
   "metadata": {},
   "outputs": [],
   "source": [
    "kde = kale.KDE(data)\n",
    "edges, values = kde.density()\n",
    "print([len(ee) for ee in edges], np.shape(values))"
   ]
  },
  {
   "cell_type": "code",
   "execution_count": null,
   "id": "d1a2de9b",
   "metadata": {},
   "outputs": [],
   "source": [
    "nsamp = 1000\n",
    "samples = kale.sample.sample_grid(edges, values, nsamp)"
   ]
  },
  {
   "cell_type": "code",
   "execution_count": null,
   "id": "e0ab8a65",
   "metadata": {},
   "outputs": [],
   "source": [
    "corner = kale.Corner(kde)\n",
    "corner.plot_kde()\n",
    "corner.plot_data(samples, color='r')\n",
    "\n",
    "nbshow()"
   ]
  },
  {
   "cell_type": "code",
   "execution_count": null,
   "id": "654f4441",
   "metadata": {},
   "outputs": [],
   "source": []
  },
  {
   "cell_type": "code",
   "execution_count": null,
   "id": "728fef1a",
   "metadata": {},
   "outputs": [],
   "source": []
  },
  {
   "cell_type": "markdown",
   "id": "5f55621c",
   "metadata": {},
   "source": [
    "# Scalar Values"
   ]
  },
  {
   "cell_type": "code",
   "execution_count": null,
   "id": "4b96fa52",
   "metadata": {},
   "outputs": [],
   "source": [
    "def func(x, y):\n",
    "    rv = (x + y)**2 + x**2 + y**2\n",
    "    rv = 3 * np.exp(-rv / 2.0) + 1.0\n",
    "    return rv\n",
    "\n",
    "xx = np.linspace(-4, 4, 22)\n",
    "yy = np.linspace(-4, 4, 23)\n",
    "\n",
    "data = func(xx[:, np.newaxis], yy[np.newaxis, :]) \n",
    "vals, scal = kale.sample.sample_grid([xx, yy], data, 20000)"
   ]
  },
  {
   "cell_type": "code",
   "execution_count": null,
   "id": "0b1eee65",
   "metadata": {},
   "outputs": [],
   "source": [
    "fig, axes = plt.subplots(figsize=[15, 6], ncols=2)\n",
    "\n",
    "ax = axes[0]\n",
    "ax.pcolormesh(xx, yy, data.T, shading='auto')\n",
    "\n",
    "ax = axes[1]\n",
    "hist, *_ = np.histogram2d(*vals, bins=(xx, yy))\n",
    "print(hist.shape)\n",
    "ax.pcolormesh(xx, yy, hist.T, shading='auto')\n",
    "\n",
    "plt.show()"
   ]
  },
  {
   "cell_type": "code",
   "execution_count": null,
   "id": "e7901fb4",
   "metadata": {},
   "outputs": [],
   "source": [
    "# data = func(xx[:, np.newaxis], yy[np.newaxis, :])\n",
    "rr = xx[:, np.newaxis]**2 + yy[np.newaxis, :]**2 + 1.0\n",
    "# ww = 4 * rr\n",
    "# ww = zmath.rescale(rr)\n",
    "ww = np.sqrt(rr)\n",
    "# vals, scal = kale.sample.sample_grid([xx, yy], ww, 200000, scalar=data/ww, interpolate=True)\n",
    "# zmath.stats_str(scal)\n",
    "\n",
    "vals, scal = kale.sample.sample_grid_proportional([xx, yy], data, ww, 200000)"
   ]
  },
  {
   "cell_type": "code",
   "execution_count": null,
   "id": "79abfc32",
   "metadata": {},
   "outputs": [],
   "source": [
    "fig, axes = plt.subplots(figsize=[15, 6], ncols=3)\n",
    "\n",
    "ax = axes[0]\n",
    "ax.pcolormesh(xx, yy, data.T, shading='auto')\n",
    "\n",
    "ax = axes[1]\n",
    "hist, *_ = np.histogram2d(*vals, bins=(xx, yy))\n",
    "ax.pcolormesh(xx, yy, hist.T, shading='auto')\n",
    "\n",
    "ax = axes[2]\n",
    "hist, *_ = np.histogram2d(*vals, bins=(xx, yy), weights=scal)\n",
    "ax.pcolormesh(xx, yy, hist.T, shading='auto')\n",
    "\n",
    "plt.show()"
   ]
  },
  {
   "cell_type": "code",
   "execution_count": null,
   "id": "95ab4f96",
   "metadata": {},
   "outputs": [],
   "source": []
  },
  {
   "cell_type": "code",
   "execution_count": null,
   "id": "e37c9190",
   "metadata": {},
   "outputs": [],
   "source": [
    "extreme = 10**(data - 1) - 1\n",
    "extreme"
   ]
  },
  {
   "cell_type": "code",
   "execution_count": null,
   "id": "d90dadf3",
   "metadata": {},
   "outputs": [],
   "source": [
    "xx.size, yy.size"
   ]
  },
  {
   "cell_type": "code",
   "execution_count": null,
   "id": "b6948ad1",
   "metadata": {},
   "outputs": [],
   "source": [
    "edges = [xx, yy]\n",
    "data_edge = extreme\n",
    "scalar_edge = ww\n",
    "\n",
    "scalar_out, data_out = kale.sample.sample_grid(np.concatenate(edges), data_edge, 1000, scalar=scalar_edge)"
   ]
  },
  {
   "cell_type": "code",
   "execution_count": null,
   "id": "15ccbd8c",
   "metadata": {},
   "outputs": [],
   "source": [
    "true_scalar_cent = kale.utils.midpoints(scalar_edge, axis=None)"
   ]
  }
 ],
 "metadata": {
  "kernelspec": {
   "display_name": "py38",
   "language": "python",
   "name": "py38"
  },
  "language_info": {
   "codemirror_mode": {
    "name": "ipython",
    "version": 3
   },
   "file_extension": ".py",
   "mimetype": "text/x-python",
   "name": "python",
   "nbconvert_exporter": "python",
   "pygments_lexer": "ipython3",
   "version": "3.8.11"
  },
  "toc": {
   "base_numbering": 1,
   "nav_menu": {},
   "number_sections": true,
   "sideBar": true,
   "skip_h1_title": false,
   "title_cell": "Table of Contents",
   "title_sidebar": "Contents",
   "toc_cell": false,
   "toc_position": {},
   "toc_section_display": true,
   "toc_window_display": true
  },
  "varInspector": {
   "cols": {
    "lenName": 16,
    "lenType": 16,
    "lenVar": 40
   },
   "kernels_config": {
    "python": {
     "delete_cmd_postfix": "",
     "delete_cmd_prefix": "del ",
     "library": "var_list.py",
     "varRefreshCmd": "print(var_dic_list())"
    },
    "r": {
     "delete_cmd_postfix": ") ",
     "delete_cmd_prefix": "rm(",
     "library": "var_list.r",
     "varRefreshCmd": "cat(var_dic_list()) "
    }
   },
   "types_to_exclude": [
    "module",
    "function",
    "builtin_function_or_method",
    "instance",
    "_Feature"
   ],
   "window_display": false
  }
 },
 "nbformat": 4,
 "nbformat_minor": 5
}
